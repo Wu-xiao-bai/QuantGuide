{
 "cells": [
  {
   "cell_type": "markdown",
   "metadata": {},
   "source": [
    "**`>>> 作者：东南有大树；公众号：大树投研。`**\n",
    "\n",
    "---\n",
    "\n",
    "### 本节概要\n",
    "\n",
    "- 定义类\n",
    "- 方法\n",
    "- 创建对象与方法调用\n",
    "- 模块"
   ]
  },
  {
   "cell_type": "markdown",
   "metadata": {},
   "source": [
    "### 一、定义类\n",
    "\n",
    "**面向对象的核心思想是：多态、继承、封装。**但它不是本系列课程的重点。主要是从类的使用、对象的创建着手。\n"
   ]
  },
  {
   "cell_type": "code",
   "execution_count": 15,
   "metadata": {},
   "outputs": [],
   "source": [
    "# 创建类\n",
    "class ClassName:\n",
    "   '''\n",
    "   类的帮助信息\n",
    "   '''\n",
    "   pass  # 类体"
   ]
  },
  {
   "cell_type": "markdown",
   "metadata": {},
   "source": [
    "### 二、方法"
   ]
  },
  {
   "cell_type": "markdown",
   "metadata": {},
   "source": [
    "**创建一个食物类，并为其添加属性与方法。**"
   ]
  },
  {
   "cell_type": "code",
   "execution_count": 16,
   "metadata": {},
   "outputs": [],
   "source": [
    "# 一个使用例子\n",
    "class food:\n",
    "    \"\"\"\n",
    "    食物类，用来存储食物名称\n",
    "    \"\"\"\n",
    "    \n",
    "    # 设置食物名称\n",
    "    def set_name(self, name):\n",
    "        \"\"\"\n",
    "        设置食物名称\n",
    "        :name, 食物名称参数\n",
    "        \"\"\"\n",
    "        self.name = name # self.name 是该类的属性，用来存储数据\n",
    "        \n",
    "    # 获取食物名称\n",
    "    def get_name(self):\n",
    "        \"\"\"\n",
    "        获取食物名称 \n",
    "        \"\"\"\n",
    "        return self.name"
   ]
  },
  {
   "cell_type": "markdown",
   "metadata": {},
   "source": [
    "### 三、创建对象与调用方法"
   ]
  },
  {
   "cell_type": "code",
   "execution_count": 17,
   "metadata": {},
   "outputs": [
    {
     "name": "stdout",
     "output_type": "stream",
     "text": [
      "苹果\n",
      "西瓜\n",
      "4459157712\n",
      "4459157600\n"
     ]
    }
   ],
   "source": [
    "_food = food() # 实例化对象\n",
    "_food.set_name('苹果') # 调用方法\n",
    "print(_food.get_name())\n",
    "\n",
    "_food2 = food()\n",
    "_food2.set_name('西瓜')\n",
    "print(_food2.get_name())\n",
    "\n",
    "print(id(_food))\n",
    "print(id(_food2))"
   ]
  },
  {
   "cell_type": "markdown",
   "metadata": {},
   "source": [
    "### 四、模块\n",
    "\n",
    "模块是一个包含所有你定义的函数和变量的文件，其后缀名是.py。模块可以被别的程序引入，以使用该模块中的函数等功能。这也是使用 python 标准库的方法。"
   ]
  },
  {
   "cell_type": "markdown",
   "metadata": {},
   "source": [
    "**模块导入语句**\n",
    "\n",
    "import 模块名 [as 别名]\n",
    "\n",
    "from 模块名 import 子模块名 [as 别名]\n",
    "\n",
    "导入模块下的全部内容使用\\*号 \n",
    "\n",
    "import 模块名 *"
   ]
  },
  {
   "cell_type": "code",
   "execution_count": 2,
   "metadata": {},
   "outputs": [
    {
     "name": "stdout",
     "output_type": "stream",
     "text": [
      "2019-03-19 09:37:37.810615\n"
     ]
    }
   ],
   "source": [
    "import datetime  # 导入datetime模块，它是python内置模块\n",
    "\n",
    "# 打印当前时间\n",
    "print(datetime.datetime.now())"
   ]
  },
  {
   "cell_type": "code",
   "execution_count": 3,
   "metadata": {},
   "outputs": [
    {
     "name": "stdout",
     "output_type": "stream",
     "text": [
      "2019-03-19 09:38:10.190856\n"
     ]
    }
   ],
   "source": [
    "# 另一个示例\n",
    "from datetime import datetime as dtime\n",
    "\n",
    "# 打印当前时间\n",
    "print(dtime.now())"
   ]
  },
  {
   "cell_type": "markdown",
   "metadata": {},
   "source": [
    "**打包自定义模块**\n",
    "\n",
    "1. 将代码保存为.py文件。\n",
    "2. 将该文件保存到与当前环境相同根目录下。\n",
    "3. 使用导入语句导入模块。"
   ]
  },
  {
   "cell_type": "code",
   "execution_count": 6,
   "metadata": {},
   "outputs": [
    {
     "name": "stdout",
     "output_type": "stream",
     "text": [
      "苹果\n"
     ]
    }
   ],
   "source": [
    "from food import food\n",
    "f = food()\n",
    "f.set_name('苹果')\n",
    "value = f.get_name()\n",
    "print(value)"
   ]
  },
  {
   "cell_type": "markdown",
   "metadata": {},
   "source": [
    "---\n",
    "关注“大树投研”公众号，回复关键字“入门指南”，获得与视频相关的文件、源代码等资料！"
   ]
  },
  {
   "cell_type": "code",
   "execution_count": null,
   "metadata": {},
   "outputs": [],
   "source": []
  }
 ],
 "metadata": {
  "kernelspec": {
   "display_name": "Python 3",
   "language": "python",
   "name": "python3"
  },
  "language_info": {
   "codemirror_mode": {
    "name": "ipython",
    "version": 3
   },
   "file_extension": ".py",
   "mimetype": "text/x-python",
   "name": "python",
   "nbconvert_exporter": "python",
   "pygments_lexer": "ipython3",
   "version": "3.6.6"
  }
 },
 "nbformat": 4,
 "nbformat_minor": 2
}
