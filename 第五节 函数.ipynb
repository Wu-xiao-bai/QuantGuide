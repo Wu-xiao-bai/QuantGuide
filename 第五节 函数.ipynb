{
 "cells": [
  {
   "cell_type": "markdown",
   "metadata": {},
   "source": [
    "**`>>> 作者：东南有大树；公众号：大树投研。`**\n",
    "\n",
    "---\n",
    "\n",
    "### 本节概要\n",
    "\n",
    "- 定义函数\n",
    "- 传递参数\n",
    "- 作用域\n",
    "- return语句\n",
    "- lambda表达式"
   ]
  },
  {
   "cell_type": "markdown",
   "metadata": {},
   "source": [
    "### 一、定义函数"
   ]
  },
  {
   "cell_type": "code",
   "execution_count": 1,
   "metadata": {},
   "outputs": [
    {
     "name": "stdout",
     "output_type": "stream",
     "text": [
      "你好，东南有大树\n",
      "func是一个函数\n"
     ]
    }
   ],
   "source": [
    "# 定义一个函数\n",
    "def func():\n",
    "    print('你好，东南有大树')\n",
    "    print('func是一个函数')\n",
    "\n",
    "# 调用函数\n",
    "func()"
   ]
  },
  {
   "cell_type": "markdown",
   "metadata": {},
   "source": [
    "### 二、传递参数"
   ]
  },
  {
   "cell_type": "code",
   "execution_count": 13,
   "metadata": {},
   "outputs": [
    {
     "name": "stdout",
     "output_type": "stream",
     "text": [
      "你好， 东南有大树\n",
      "你好， 大树投研\n"
     ]
    }
   ],
   "source": [
    "# 参数\n",
    "def func(name):  # 形参\n",
    "    print('你好，', name)\n",
    "\n",
    "func('东南有大树')  # 实参\n",
    "func('大树投研')"
   ]
  },
  {
   "cell_type": "code",
   "execution_count": 7,
   "metadata": {},
   "outputs": [
    {
     "name": "stdout",
     "output_type": "stream",
     "text": [
      "东南有大树 东南有大树\n",
      "在吗 东南有大树\n"
     ]
    }
   ],
   "source": [
    "# 为参数设定默认值\n",
    "def func(name='东南有大树', word='你好'):\n",
    "    print(word, name)\n",
    "    \n",
    "func(word = '东南有大树')\n",
    "func('东南有大树', '在吗')"
   ]
  },
  {
   "cell_type": "markdown",
   "metadata": {},
   "source": [
    "### 三、作用域"
   ]
  },
  {
   "cell_type": "code",
   "execution_count": 17,
   "metadata": {},
   "outputs": [
    {
     "name": "stdout",
     "output_type": "stream",
     "text": [
      "你好 东南有大树\n",
      "30\n",
      "5\n"
     ]
    },
    {
     "ename": "NameError",
     "evalue": "name 'y' is not defined",
     "output_type": "error",
     "traceback": [
      "\u001b[0;31m---------------------------------------------------------------------------\u001b[0m",
      "\u001b[0;31mNameError\u001b[0m                                 Traceback (most recent call last)",
      "\u001b[0;32m<ipython-input-17-362df68bf761>\u001b[0m in \u001b[0;36m<module>\u001b[0;34m\u001b[0m\n\u001b[1;32m      8\u001b[0m \u001b[0mfunc\u001b[0m\u001b[0;34m(\u001b[0m\u001b[0;34m'东南有大树'\u001b[0m\u001b[0;34m)\u001b[0m\u001b[0;34m\u001b[0m\u001b[0m\n\u001b[1;32m      9\u001b[0m \u001b[0mprint\u001b[0m\u001b[0;34m(\u001b[0m\u001b[0mx\u001b[0m\u001b[0;34m)\u001b[0m\u001b[0;34m\u001b[0m\u001b[0m\n\u001b[0;32m---> 10\u001b[0;31m \u001b[0mprint\u001b[0m\u001b[0;34m(\u001b[0m\u001b[0my\u001b[0m\u001b[0;34m)\u001b[0m\u001b[0;34m\u001b[0m\u001b[0m\n\u001b[0m",
      "\u001b[0;31mNameError\u001b[0m: name 'y' is not defined"
     ]
    }
   ],
   "source": [
    "x = 5 # 这是一个全局变量　\n",
    "\n",
    "def func(name, word='你好'):\n",
    "    y = 6  # 这是一个局部变量\n",
    "    print(word, name)\n",
    "    print(x * y)\n",
    "\n",
    "func('东南有大树')\n",
    "print(x)\n",
    "print(y)"
   ]
  },
  {
   "cell_type": "markdown",
   "metadata": {},
   "source": [
    "### 四、return语句"
   ]
  },
  {
   "cell_type": "code",
   "execution_count": 21,
   "metadata": {},
   "outputs": [
    {
     "data": {
      "text/plain": [
       "11"
      ]
     },
     "execution_count": 21,
     "metadata": {},
     "output_type": "execute_result"
    }
   ],
   "source": [
    "def func(name, word='你好'):\n",
    "    return word +', '+ name\n",
    "\n",
    "value = func('东南有大树')\n",
    "value\n",
    "\n",
    "def add(x, y):\n",
    "    return x + y\n",
    "    print(x, y)\n",
    "#     return x + y\n",
    "\n",
    "add(5, 6)"
   ]
  },
  {
   "cell_type": "markdown",
   "metadata": {},
   "source": [
    "### lambda表达式"
   ]
  },
  {
   "cell_type": "code",
   "execution_count": 24,
   "metadata": {},
   "outputs": [
    {
     "data": {
      "text/plain": [
       "13"
      ]
     },
     "execution_count": 24,
     "metadata": {},
     "output_type": "execute_result"
    }
   ],
   "source": [
    "# lambda表达式又叫匿名函数\n",
    "sum = lambda arg1, arg2: arg1 + arg2;\n",
    "\n",
    "x = 5\n",
    "y = 8\n",
    "sum(x, y)"
   ]
  },
  {
   "cell_type": "markdown",
   "metadata": {},
   "source": [
    "---\n",
    "关注“大树投研”公众号，回复关键字“入门指南”，获得与视频相关的文件、源代码等资料！"
   ]
  },
  {
   "cell_type": "code",
   "execution_count": null,
   "metadata": {},
   "outputs": [],
   "source": []
  }
 ],
 "metadata": {
  "kernelspec": {
   "display_name": "Python 3",
   "language": "python",
   "name": "python3"
  },
  "language_info": {
   "codemirror_mode": {
    "name": "ipython",
    "version": 3
   },
   "file_extension": ".py",
   "mimetype": "text/x-python",
   "name": "python",
   "nbconvert_exporter": "python",
   "pygments_lexer": "ipython3",
   "version": "3.6.6"
  }
 },
 "nbformat": 4,
 "nbformat_minor": 2
}
