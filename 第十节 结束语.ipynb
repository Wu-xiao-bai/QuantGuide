{
 "cells": [
  {
   "cell_type": "markdown",
   "metadata": {},
   "source": [
    "### 课程总结\n",
    "\n",
    "通过本课程学习，初学者可以掌握以下内容：\n",
    "\n",
    "- python 基础知识\n",
    "- 对数据结构的基本认识\n",
    "- 了解量化编程模式\n",
    "- 使用 pandas 对数据进行分析\n",
    "- 编写双均线策略\n",
    "- 简单的数据可视化\n",
    "\n",
    "### 对初学者的建议\n",
    "\n",
    "- 不要求快，慢慢来\n",
    "- 把大的知识，拆分成小块进行掌握，积小成大\n",
    "- 相信数据，而不是专家建议\n",
    "- 不要梦想一夜暴富\n",
    "- 最好的投资，是投资你自己\n",
    "- 时间、复利，是积累财富的关键，因此，请耐心，并持续投资\n",
    "\n",
    "### 推荐好书\n",
    "\n",
    "- 《好好学习，个人知识管理精进指南》\n",
    "- 《打开量化交易的黑箱》\n",
    "- 《Python 入门指南第3版》\n",
    "- 《精进》\n",
    "- 《利用 Python 进行数据分析》\n",
    "\n",
    "### 常用量化平台\n",
    "\n",
    "- [聚宽](https://www.joinquant.com)[目前我在这个平台发展]\n",
    "- [优矿](https://uqer.io)\n",
    "- [米筐](https://www.ricequant.com)\n",
    "- 等等\n",
    "\n",
    "这些平台没有谁好谁坏之分，看个人习惯吧。我第一次接触量化是在聚宽，于是在在这里发展了。其它平台也很不错，可以根据个人喜好决定。\n",
    "\n",
    "\n",
    "### 大树投研课程\n",
    "\n",
    "接下来，我们将推出《量化投资进阶指南》课程，其中包含（但不限于）以下内容：\n",
    "\n",
    "- python 的高级使用\n",
    "- 更全面的金融知识\n",
    "- 数据分析\n",
    "- 数据挖掘\n",
    "- 爬虫\n",
    "- 机器学习\n",
    "- 数据可视化\n",
    "- 自编写回测框架\n",
    "- 策略编写与模拟\n",
    "- 实盘交易"
   ]
  },
  {
   "cell_type": "code",
   "execution_count": null,
   "metadata": {},
   "outputs": [],
   "source": []
  }
 ],
 "metadata": {
  "kernelspec": {
   "display_name": "Python 3",
   "language": "python",
   "name": "python3"
  },
  "language_info": {
   "codemirror_mode": {
    "name": "ipython",
    "version": 3
   },
   "file_extension": ".py",
   "mimetype": "text/x-python",
   "name": "python",
   "nbconvert_exporter": "python",
   "pygments_lexer": "ipython3",
   "version": "3.6.6"
  }
 },
 "nbformat": 4,
 "nbformat_minor": 2
}
