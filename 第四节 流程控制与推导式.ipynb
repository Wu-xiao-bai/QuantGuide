{
 "cells": [
  {
   "cell_type": "markdown",
   "metadata": {},
   "source": [
    "**`>>> 作者：东南有大树；公众号：大树投研。`**\n",
    "\n",
    "---\n",
    "\n",
    "### 本节概要\n",
    "\n",
    "- 条件语句\n",
    "- 布尔运算\n",
    "    - 比较运算符\n",
    "    - 逻辑运算符\n",
    "    - 成员运算符\n",
    "- 三目运算\n",
    "- 推导式\n",
    "    - 列表推导\n",
    "    - 字典推导\n",
    "- zip()函数"
   ]
  },
  {
   "cell_type": "markdown",
   "metadata": {},
   "source": [
    "### 一、条件语句"
   ]
  },
  {
   "cell_type": "code",
   "execution_count": 1,
   "metadata": {},
   "outputs": [
    {
     "data": {
      "text/plain": [
       "False"
      ]
     },
     "execution_count": 1,
     "metadata": {},
     "output_type": "execute_result"
    }
   ],
   "source": [
    "# bool值\n",
    "True  # 真\n",
    "False  # 假"
   ]
  },
  {
   "cell_type": "code",
   "execution_count": 1,
   "metadata": {},
   "outputs": [
    {
     "name": "stdout",
     "output_type": "stream",
     "text": [
      "你好，东南有大树\n"
     ]
    }
   ],
   "source": [
    "if True:\n",
    "    print('你好，东南有大树')"
   ]
  },
  {
   "cell_type": "code",
   "execution_count": 6,
   "metadata": {},
   "outputs": [
    {
     "name": "stdout",
     "output_type": "stream",
     "text": [
      "True\n",
      "False\n"
     ]
    }
   ],
   "source": [
    "# bool值\n",
    "x = 5\n",
    "y = 6\n",
    "print(x < y)\n",
    "print(x > y)"
   ]
  },
  {
   "cell_type": "code",
   "execution_count": 8,
   "metadata": {},
   "outputs": [],
   "source": [
    "if True:\n",
    "    pass\n",
    "elif True:\n",
    "    pass\n",
    "else:\n",
    "    pass\n",
    "\n",
    "\n",
    "\"\"\"\n",
    "if 结果是真：\n",
    "    操作\n",
    "======================   \n",
    "if 结果是真：\n",
    "    操作\n",
    "else:\n",
    "    操作\n",
    "======================\n",
    "if 结果是真：\n",
    "    操作\n",
    "elif 结果是真:\n",
    "    操作\n",
    "======================\n",
    "if 结果是真：\n",
    "    操作\n",
    "elif 结果是真：\n",
    "    操作\n",
    "else:\n",
    "    操作\n",
    "======================\n",
    "elif 与 else 不可单独使用\n",
    "elif 可以有任意多个:\n",
    "if Ture:\n",
    "    pass\n",
    "elif True:\n",
    "    pass\n",
    "elif True:\n",
    "    pass\n",
    "else:\n",
    "    pass\n",
    "\"\"\""
   ]
  },
  {
   "cell_type": "markdown",
   "metadata": {},
   "source": [
    "### 二、布尔运算"
   ]
  },
  {
   "cell_type": "code",
   "execution_count": 17,
   "metadata": {},
   "outputs": [
    {
     "name": "stdout",
     "output_type": "stream",
     "text": [
      "False\n",
      "True\n",
      "False\n",
      "False\n",
      "True\n",
      "True\n"
     ]
    }
   ],
   "source": [
    "# 比较运算符\n",
    "\n",
    "x = 5\n",
    "y = 6\n",
    "print(x > y)\n",
    "print(x < y)\n",
    "print(x == y)\n",
    "print(x >= y)\n",
    "print(x <= y)\n",
    "print(x != y)"
   ]
  },
  {
   "cell_type": "code",
   "execution_count": 22,
   "metadata": {},
   "outputs": [
    {
     "name": "stdout",
     "output_type": "stream",
     "text": [
      "True\n",
      "True\n",
      "False\n"
     ]
    }
   ],
   "source": [
    "# 逻辑运算符\n",
    "x = 5 \n",
    "y = 6\n",
    "z = 7\n",
    "print(x < y and x < 7)\n",
    "print(x < y or y < 7)\n",
    "print(not(x < y))"
   ]
  },
  {
   "cell_type": "code",
   "execution_count": 24,
   "metadata": {},
   "outputs": [
    {
     "name": "stdout",
     "output_type": "stream",
     "text": [
      "True\n",
      "False\n"
     ]
    }
   ],
   "source": [
    "# 成员运算符\n",
    "foods = ['苹果', '香蕉', '桔子']\n",
    "value = '苹果' in foods\n",
    "print(value)\n",
    "value = '苹果' not in foods\n",
    "print(value)"
   ]
  },
  {
   "cell_type": "markdown",
   "metadata": {},
   "source": [
    "### 三、三目运算符"
   ]
  },
  {
   "cell_type": "code",
   "execution_count": 8,
   "metadata": {},
   "outputs": [
    {
     "name": "stdout",
     "output_type": "stream",
     "text": [
      "5\n"
     ]
    }
   ],
   "source": [
    "x = 5\n",
    "y = 6\n",
    "z = 7\n",
    "\n",
    "value = x if x < y else z\n",
    "print(value)"
   ]
  },
  {
   "cell_type": "code",
   "execution_count": 9,
   "metadata": {},
   "outputs": [
    {
     "name": "stdout",
     "output_type": "stream",
     "text": [
      "1是奇数\n",
      "2是偶数\n",
      "3是奇数\n",
      "4是偶数\n",
      "5是奇数\n",
      "6是偶数\n",
      "7是奇数\n",
      "8是偶数\n",
      "9是奇数\n"
     ]
    }
   ],
   "source": [
    "# 条件语句与循环的结合\n",
    "for i in range(1, 10):\n",
    "    if i % 2 == 0:\n",
    "        print(str(i)+'是偶数')\n",
    "    else:\n",
    "        print(str(i)+'是奇数')"
   ]
  },
  {
   "cell_type": "markdown",
   "metadata": {},
   "source": [
    "### 四、推导式"
   ]
  },
  {
   "cell_type": "markdown",
   "metadata": {},
   "source": [
    "**列表推导式**"
   ]
  },
  {
   "cell_type": "code",
   "execution_count": 26,
   "metadata": {},
   "outputs": [
    {
     "data": {
      "text/plain": [
       "[0, 1, 2, 3, 4, 5, 6, 7, 8, 9, 10, 11, 12, 13, 14, 15, 16, 17, 18, 19]"
      ]
     },
     "execution_count": 26,
     "metadata": {},
     "output_type": "execute_result"
    }
   ],
   "source": [
    "value = [i for i in range(0, 20)]\n",
    "value"
   ]
  },
  {
   "cell_type": "code",
   "execution_count": 2,
   "metadata": {},
   "outputs": [
    {
     "name": "stdout",
     "output_type": "stream",
     "text": [
      "[0, 1, 4, 9, 16, 25, 36, 49, 64, 81, 100, 121, 144, 169, 196, 225, 256, 289, 324, 361]\n"
     ]
    }
   ],
   "source": [
    "value = [i**2 for i in range(0, 20)]\n",
    "print(value)"
   ]
  },
  {
   "cell_type": "code",
   "execution_count": 32,
   "metadata": {},
   "outputs": [
    {
     "data": {
      "text/plain": [
       "[0, 2, 4, 6, 8, 10, 12, 14, 16, 18]"
      ]
     },
     "execution_count": 32,
     "metadata": {},
     "output_type": "execute_result"
    }
   ],
   "source": [
    "value = [i for i in range(0, 20) if (i % 2) == 0]\n",
    "value"
   ]
  },
  {
   "cell_type": "code",
   "execution_count": 10,
   "metadata": {},
   "outputs": [
    {
     "name": "stdout",
     "output_type": "stream",
     "text": [
      "[(0, 1), (0, 2), (0, 3), (0, 4), (0, 5), (1, 1), (1, 2), (1, 3), (1, 4), (1, 5), (2, 1), (2, 2), (2, 3), (2, 4), (2, 5), (3, 1), (3, 2), (3, 3), (3, 4), (3, 5), (4, 1), (4, 2), (4, 3), (4, 4), (4, 5)]\n"
     ]
    }
   ],
   "source": [
    "_list = []\n",
    "for i in range(0, 5):\n",
    "    for j in range(1, 6):\n",
    "        _list.append((i, j))\n",
    "print(_list)"
   ]
  },
  {
   "cell_type": "code",
   "execution_count": 36,
   "metadata": {
    "scrolled": false
   },
   "outputs": [
    {
     "data": {
      "text/plain": [
       "[(0, 1),\n",
       " (0, 2),\n",
       " (0, 3),\n",
       " (0, 4),\n",
       " (0, 5),\n",
       " (1, 1),\n",
       " (1, 2),\n",
       " (1, 3),\n",
       " (1, 4),\n",
       " (1, 5),\n",
       " (2, 1),\n",
       " (2, 2),\n",
       " (2, 3),\n",
       " (2, 4),\n",
       " (2, 5),\n",
       " (3, 1),\n",
       " (3, 2),\n",
       " (3, 3),\n",
       " (3, 4),\n",
       " (3, 5),\n",
       " (4, 1),\n",
       " (4, 2),\n",
       " (4, 3),\n",
       " (4, 4),\n",
       " (4, 5)]"
      ]
     },
     "execution_count": 36,
     "metadata": {},
     "output_type": "execute_result"
    }
   ],
   "source": [
    "value = [(i, j) for i in range(0, 5) for j in range(1, 6)]\n",
    "value"
   ]
  },
  {
   "cell_type": "markdown",
   "metadata": {},
   "source": [
    "**字典推导式**"
   ]
  },
  {
   "cell_type": "code",
   "execution_count": 40,
   "metadata": {},
   "outputs": [
    {
     "data": {
      "text/plain": [
       "{0: '1', 1: '2', 2: '3', 3: '4', 4: '5'}"
      ]
     },
     "execution_count": 40,
     "metadata": {},
     "output_type": "execute_result"
    }
   ],
   "source": [
    "value = {i : str(i + 1) for i in range(0, 5)}\n",
    "value"
   ]
  },
  {
   "cell_type": "code",
   "execution_count": 42,
   "metadata": {},
   "outputs": [
    {
     "data": {
      "text/plain": [
       "{0: '1', 1: '2', 2: '3', 3: '4', 4: '5'}"
      ]
     },
     "execution_count": 42,
     "metadata": {},
     "output_type": "execute_result"
    }
   ],
   "source": [
    "_dict = {0: '1', 1: '2', 2: '3', 3: '4', 4: '5'}\n",
    "value = {key : value for key, value in _dict.items()}\n",
    "value"
   ]
  },
  {
   "cell_type": "markdown",
   "metadata": {},
   "source": [
    "### zip()函数"
   ]
  },
  {
   "cell_type": "code",
   "execution_count": 3,
   "metadata": {},
   "outputs": [
    {
     "name": "stdout",
     "output_type": "stream",
     "text": [
      "('苹果', 3)\n",
      "('香蕉', 2)\n",
      "('桔子', 4)\n"
     ]
    }
   ],
   "source": [
    "foods = ['苹果', '香蕉', '桔子']\n",
    "money = [3, 2, 4]\n",
    "\n",
    "for value in zip(foods, money):\n",
    "    print(value)"
   ]
  },
  {
   "cell_type": "code",
   "execution_count": 4,
   "metadata": {},
   "outputs": [
    {
     "data": {
      "text/plain": [
       "[('苹果', 3), ('香蕉', 2), ('桔子', 4)]"
      ]
     },
     "execution_count": 4,
     "metadata": {},
     "output_type": "execute_result"
    }
   ],
   "source": [
    "value = [_value for _value in zip(foods, money)]\n",
    "value"
   ]
  },
  {
   "cell_type": "markdown",
   "metadata": {},
   "source": [
    "---\n",
    "关注“大树投研”公众号，回复关键字“入门指南”，获得与视频相关的文件、源代码等资料！"
   ]
  }
 ],
 "metadata": {
  "kernelspec": {
   "display_name": "Python 3",
   "language": "python",
   "name": "python3"
  },
  "language_info": {
   "codemirror_mode": {
    "name": "ipython",
    "version": 3
   },
   "file_extension": ".py",
   "mimetype": "text/x-python",
   "name": "python",
   "nbconvert_exporter": "python",
   "pygments_lexer": "ipython3",
   "version": "3.6.6"
  }
 },
 "nbformat": 4,
 "nbformat_minor": 2
}
